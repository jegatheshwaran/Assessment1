{
 "cells": [
  {
   "cell_type": "markdown",
   "id": "60faccf6-a5aa-4295-a638-5e2d9aa34a6e",
   "metadata": {},
   "source": [
    "# Pattern Printing"
   ]
  },
  {
   "cell_type": "markdown",
   "id": "48f2f7ca-e112-4b64-84aa-41f1407c6b86",
   "metadata": {},
   "source": [
    "#### Assignment 1: Centered Star Pyramid"
   ]
  },
  {
   "cell_type": "code",
   "execution_count": 8,
   "id": "8b5af31c-19f3-432a-8dea-0a5130333dee",
   "metadata": {},
   "outputs": [
    {
     "name": "stdin",
     "output_type": "stream",
     "text": [
      "Enter your input: 5\n"
     ]
    },
    {
     "name": "stdout",
     "output_type": "stream",
     "text": [
      "    *\n",
      "   ***\n",
      "  *****\n",
      " *******\n"
     ]
    }
   ],
   "source": [
    "## Question-1\n",
    "n = int(input(\"Enter your input:\"))\n",
    "for i in range(1,n):\n",
    "    print(\" \"*(n-i)+\"*\"*(2*i-1))"
   ]
  },
  {
   "cell_type": "markdown",
   "id": "5fe63a9b-d220-4957-a33d-314899a1fc48",
   "metadata": {},
   "source": [
    "#### Assignment 2: Hollow Rectangle"
   ]
  },
  {
   "cell_type": "code",
   "execution_count": null,
   "id": "8113dc8f-da86-494a-9703-75f62b341461",
   "metadata": {},
   "outputs": [],
   "source": [
    "\n"
   ]
  },
  {
   "cell_type": "markdown",
   "id": "66a69cc9-e97a-490e-8ea6-dda9d4459573",
   "metadata": {},
   "source": [
    "#### Assignment 3: Diamond Pattern"
   ]
  },
  {
   "cell_type": "code",
   "execution_count": 10,
   "id": "7248c2c4-3d4d-4858-a8de-caae575e3450",
   "metadata": {},
   "outputs": [
    {
     "name": "stdin",
     "output_type": "stream",
     "text": [
      "Enter your input: 6\n"
     ]
    },
    {
     "name": "stdout",
     "output_type": "stream",
     "text": [
      "     *\n",
      "    ***\n",
      "   *****\n",
      "  *******\n",
      " *********\n",
      "***********\n",
      " *********\n",
      "  *******\n",
      "   *****\n",
      "    ***\n",
      "     *\n"
     ]
    }
   ],
   "source": [
    "## Question\n",
    "n = int(input(\"Enter your input:\"))\n",
    "for i in range(1,n+1):\n",
    "    print(\" \"*(n-i)+\"*\"*(2*i-1))\n",
    "for i in range(n-1,0,-1):\n",
    "    print(\" \"*(n-i)+\"*\"*(2*i-1))"
   ]
  },
  {
   "cell_type": "markdown",
   "id": "f27c2413-531d-4482-b54c-40fff1961e22",
   "metadata": {},
   "source": [
    "#### Assignment 4: Floyd's Triangle"
   ]
  },
  {
   "cell_type": "code",
   "execution_count": 27,
   "id": "2079055f-a9a7-44bd-b0c8-00f9e59ba014",
   "metadata": {},
   "outputs": [
    {
     "name": "stdin",
     "output_type": "stream",
     "text": [
      "Enter you input: 9\n"
     ]
    },
    {
     "name": "stdout",
     "output_type": "stream",
     "text": [
      "\n",
      "1 \n",
      "2 3 \n",
      "4 5 6 \n",
      "7 8 9 10 \n",
      "11 12 13 14 15 \n",
      "16 17 18 19 20 21 \n",
      "22 23 24 25 26 27 28 \n",
      "29 30 31 32 33 34 35 36 \n"
     ]
    }
   ],
   "source": [
    "## Question-3\n",
    "n = int(input(\"Enter you input:\"))\n",
    "z=1\n",
    "for i in range(1,n+1):\n",
    "    for j in range(1,i):\n",
    "        print(z,end=\" \")\n",
    "        z+=1\n",
    "    print()"
   ]
  },
  {
   "cell_type": "code",
   "execution_count": null,
   "id": "0317cb02-7b36-45b8-a321-7f9b80917f90",
   "metadata": {},
   "outputs": [],
   "source": []
  },
  {
   "cell_type": "markdown",
   "id": "13743bdd-11e1-4927-9b77-bc581cac6cc1",
   "metadata": {},
   "source": [
    "# Loop Break Practice"
   ]
  },
  {
   "cell_type": "markdown",
   "id": "d1eceefb-a830-4524-8bb2-c3bcd1e6dd8a",
   "metadata": {},
   "source": [
    "**Question 1: ATM PIN**\n",
    "\n",
    "You're building a basic ATM security system. When a user inserts their ATM card, they are asked to enter a 4-digit PIN. The user gets only **3 chances** to enter the correct PIN.\n",
    "\n",
    "1. If the correct PIN is entered, print \"Access Granted.\"\n",
    "\n",
    "2. If the user enters the wrong PIN 3 times in a row, print \"Card Blocked.\"\n",
    "\n",
    "Write a program using a loop to simulate this behavior. **Use the correct PIN as \"1234\" for now.**"
   ]
  },
  {
   "cell_type": "code",
   "execution_count": 34,
   "id": "56776d86-e370-4bab-a2de-6ed45486d924",
   "metadata": {},
   "outputs": [
    {
     "name": "stdin",
     "output_type": "stream",
     "text": [
      "Enter your 4 digit pin: 1234\n"
     ]
    },
    {
     "name": "stdout",
     "output_type": "stream",
     "text": [
      "Access Granted\n"
     ]
    }
   ],
   "source": [
    "pin = 1234\n",
    "attempt = 0\n",
    "while attempt< 3:\n",
    "    user_input = int(input(\"Enter your 4 digit pin:\"))\n",
    "\n",
    "    if pin==user_input:\n",
    "        print(\"Access Granted\")\n",
    "        break\n",
    "    else:\n",
    "        print(\"Enter Correct Pin\")\n",
    "        attempt+=1\n",
    "else:\n",
    "    print(\"Card Blocked\")"
   ]
  },
  {
   "cell_type": "markdown",
   "id": "e7e9d573-8ff9-46e3-97a7-4cd1156f2e87",
   "metadata": {},
   "source": [
    "**Question 2: Reverse a Number**\n",
    "\n",
    "Ask the user to enter an integer number. Your task is to **reverse the digits** of that number and display the reversed number.\n",
    "\n",
    "**Example:**\n",
    "\n",
    "1. If the user enters 1234, your program should print 4321.\n",
    "2. If they enter 5080, it should print 805."
   ]
  },
  {
   "cell_type": "code",
   "execution_count": 40,
   "id": "598cb165-7895-42c7-af22-f647c0722f5f",
   "metadata": {},
   "outputs": [
    {
     "name": "stdin",
     "output_type": "stream",
     "text": [
      "Enter your input: 123650\n"
     ]
    },
    {
     "name": "stdout",
     "output_type": "stream",
     "text": [
      "56321\n"
     ]
    }
   ],
   "source": [
    "a = int(input(\"Enter your input:\"))\n",
    "b=str(a)\n",
    "b=(b[::-1])\n",
    "if b[0]=='0':\n",
    "  print(b[1:])\n",
    "else:\n",
    "  print(b)"
   ]
  },
  {
   "cell_type": "markdown",
   "id": "b401d03a-2dc8-49d9-bcdf-cbf3f2669497",
   "metadata": {},
   "source": [
    "**Question 3: Prison Cell**\n",
    "\n",
    "There are 100 prison cells, all initially **closed (locked)**. There are also 100 prisoners, each assigned a unique number from 1 to 100.\n",
    "\n",
    "They play a strange game with the doors:\n",
    "\n",
    "1. Prisoner 1 toggles every door (opens them all).\n",
    "\n",
    "2. Prisoner 2 toggles every 2nd door (i.e., 2, 4, 6, ...).\n",
    "\n",
    "3. Prisoner 3 toggles every 3rd door (3, 6, 9, ...).\n",
    "\n",
    "...\n",
    "\n",
    "100. Prisoner 100 toggles every 100th door (just door 100).\n",
    "\n",
    "**Toggle means:**\n",
    "\n",
    "1. If the door is closed, it becomes open.\n",
    "\n",
    "2. If the door is open, it becomes closed.\n",
    "\n",
    "After all 100 prisoners have taken their turn,\n",
    "\n",
    "**Which doors will remain open?**"
   ]
  },
  {
   "cell_type": "code",
   "execution_count": null,
   "id": "823a993e-f7c6-4e69-856b-9dbdc8480bd1",
   "metadata": {},
   "outputs": [],
   "source": []
  },
  {
   "cell_type": "markdown",
   "id": "06051686-f6de-4e7e-b452-700d14d8a5f0",
   "metadata": {},
   "source": [
    "**Question 4: Count Digits in a Number**\n",
    "\n",
    "Take an integer from the user and count how many digits it has"
   ]
  },
  {
   "cell_type": "code",
   "execution_count": 45,
   "id": "b2630abc-f0f6-415d-b723-3d941be923a3",
   "metadata": {},
   "outputs": [
    {
     "name": "stdin",
     "output_type": "stream",
     "text": [
      "Enter the value: 5\n"
     ]
    },
    {
     "name": "stdout",
     "output_type": "stream",
     "text": [
      "1\n"
     ]
    }
   ],
   "source": [
    "a = int(input(\"Enter the value:\"))\n",
    "b = str(a)\n",
    "count=0\n",
    "for i in range(len(b)):\n",
    "  count+=1\n",
    "print(count)"
   ]
  },
  {
   "cell_type": "markdown",
   "id": "0a1eb5ce-461e-4233-b5c2-6ffa2b254c28",
   "metadata": {},
   "source": [
    "**Question 5: Take a number from the user and calculate its factorial using a for loop.**\n",
    "\n",
    "Factorial of n is: n * (n-1) * (n-2) * ... * 1"
   ]
  },
  {
   "cell_type": "code",
   "execution_count": 48,
   "id": "ce264080-9dfb-406c-bccb-76ae653fe716",
   "metadata": {},
   "outputs": [
    {
     "name": "stdin",
     "output_type": "stream",
     "text": [
      "Enter the value: 5\n"
     ]
    },
    {
     "name": "stdout",
     "output_type": "stream",
     "text": [
      "120\n"
     ]
    }
   ],
   "source": [
    "a = int(input(\"Enter the value:\"))\n",
    "fact=1\n",
    "for i in range(1,a+1):\n",
    "  fact*=i\n",
    "print(fact)"
   ]
  },
  {
   "cell_type": "markdown",
   "id": "5fc91be6-4307-4d91-8056-50deb51005c2",
   "metadata": {},
   "source": [
    "**Question 6: Find the Greatest Digit in a Number**\n",
    "\n",
    "Take an integer input and find the largest digit in it.\n",
    "\n",
    "Example: 59281 → output: 9"
   ]
  },
  {
   "cell_type": "code",
   "execution_count": 51,
   "id": "7b1e91e4-973d-4f6a-866b-6cacac230716",
   "metadata": {},
   "outputs": [
    {
     "name": "stdin",
     "output_type": "stream",
     "text": [
      "Enter your input: 8\n"
     ]
    },
    {
     "name": "stdout",
     "output_type": "stream",
     "text": [
      "8\n"
     ]
    }
   ],
   "source": [
    "a = int(input(\"Enter your input:\"))\n",
    "b = str(a)\n",
    "print(max(b))"
   ]
  },
  {
   "cell_type": "markdown",
   "id": "e70efa02-1a61-464b-a1ab-b374e1178bf5",
   "metadata": {},
   "source": [
    "**Question 7: Check if Number is Palindrome**\n",
    "\n",
    "A number is a palindrome if it reads the same forward and backward.\n",
    "\n",
    "Example: 121, 444, 9889 → Palindrome\n",
    "\n",
    "Ask user to input a number and check if it's a palindrome.\n"
   ]
  },
  {
   "cell_type": "code",
   "execution_count": null,
   "id": "ff676659-b567-4587-af52-d1fe684e1826",
   "metadata": {},
   "outputs": [],
   "source": []
  },
  {
   "cell_type": "markdown",
   "id": "2067448d-5d92-40fe-aa80-357afcbf77e8",
   "metadata": {},
   "source": [
    "**Question 8: Count Even and Odd Digits**\n",
    "\n",
    "Ask the user for a number and count how many even and odd digits it has."
   ]
  },
  {
   "cell_type": "code",
   "execution_count": 55,
   "id": "62199c03-d35b-4055-a94c-2ed76b846789",
   "metadata": {},
   "outputs": [
    {
     "name": "stdin",
     "output_type": "stream",
     "text": [
      "Enter input: 5\n"
     ]
    },
    {
     "name": "stdout",
     "output_type": "stream",
     "text": [
      "0\n",
      "1\n"
     ]
    }
   ],
   "source": [
    "a = int(input(\"Enter input:\"))\n",
    "b = str (a)\n",
    "count_E=0\n",
    "count_o=1\n",
    "for i in range(1,len(b)):\n",
    "  if int(b[i])%2==0:\n",
    "    count_E+=1\n",
    "  else:\n",
    "    count_o+=1\n",
    "print(count_E)\n",
    "print(count_o)"
   ]
  },
  {
   "cell_type": "markdown",
   "id": "0fc02aed-5373-4ced-bc3f-1d14120040f3",
   "metadata": {},
   "source": [
    "# Loop Practice Break-Continue"
   ]
  },
  {
   "cell_type": "markdown",
   "id": "834cd848-e682-434e-85fb-42b939a8ad0b",
   "metadata": {},
   "source": [
    "**Question 1** Ask the user to enter 10 numbers one by one.\n",
    "\n",
    "As soon as the user enters a negative number, **stop the loop and print \"Stopped at negative input.\"**"
   ]
  },
  {
   "cell_type": "code",
   "execution_count": 66,
   "id": "137977f4-2a6a-4326-af2d-5aeec60f7e11",
   "metadata": {},
   "outputs": [
    {
     "name": "stdin",
     "output_type": "stream",
     "text": [
      "Enter the value: 5\n"
     ]
    },
    {
     "name": "stdout",
     "output_type": "stream",
     "text": [
      "Positive value!\n"
     ]
    },
    {
     "name": "stdin",
     "output_type": "stream",
     "text": [
      "Enter the value: 6\n"
     ]
    },
    {
     "name": "stdout",
     "output_type": "stream",
     "text": [
      "Positive value!\n"
     ]
    },
    {
     "name": "stdin",
     "output_type": "stream",
     "text": [
      "Enter the value: 9\n"
     ]
    },
    {
     "name": "stdout",
     "output_type": "stream",
     "text": [
      "Positive value!\n"
     ]
    },
    {
     "name": "stdin",
     "output_type": "stream",
     "text": [
      "Enter the value: -1\n"
     ]
    },
    {
     "name": "stdout",
     "output_type": "stream",
     "text": [
      "Stopped at negative input\n"
     ]
    }
   ],
   "source": [
    "for i in range(1,11):\n",
    "  a = int(input(\"Enter the value:\"))\n",
    "  if a<0:\n",
    "    print(\"Stopped at negative input\")\n",
    "    break\n",
    "  else:\n",
    "    print(\"Positive value!\")\n",
    "      "
   ]
  },
  {
   "cell_type": "markdown",
   "id": "cf905c7a-72ea-4640-9e02-58a0d4da7320",
   "metadata": {},
   "source": [
    "**Question 2:** Ask the user to enter a word.\n",
    "\n",
    "Print each character except vowels"
   ]
  },
  {
   "cell_type": "code",
   "execution_count": 69,
   "id": "5caf63d5-3b30-47f7-aab1-3e3a98018e70",
   "metadata": {},
   "outputs": [
    {
     "name": "stdin",
     "output_type": "stream",
     "text": [
      "Enter the input: 54\n"
     ]
    },
    {
     "name": "stdout",
     "output_type": "stream",
     "text": [
      "5\n",
      "4\n"
     ]
    }
   ],
   "source": [
    "user = input(\"Enter the input:\")\n",
    "vowles = \"aeiouAEIOU\"\n",
    "for i in range(len(user)):\n",
    "  if user[i] in vowles:\n",
    "    continue\n",
    "  else:\n",
    "    print(user[i])"
   ]
  },
  {
   "cell_type": "markdown",
   "id": "e46c973a-056e-446a-ba56-b2485b136b4e",
   "metadata": {},
   "source": [
    "**Question 3:** Skip Even, Stop on 13\n",
    "\n",
    "1. Print numbers from 1 to 50.\n",
    "\n",
    "2. Skip even numbers\n",
    "\n",
    "3. Stop completely if number 13 is reached"
   ]
  },
  {
   "cell_type": "code",
   "execution_count": 72,
   "id": "f4ad0507-7b1a-4381-95ea-ba7ecdc3538a",
   "metadata": {},
   "outputs": [
    {
     "name": "stdout",
     "output_type": "stream",
     "text": [
      "1\n",
      "3\n",
      "5\n",
      "7\n",
      "9\n",
      "11\n",
      "15\n",
      "17\n",
      "19\n",
      "21\n",
      "23\n",
      "25\n",
      "27\n",
      "29\n",
      "31\n",
      "33\n",
      "35\n",
      "37\n",
      "39\n",
      "41\n",
      "43\n",
      "45\n",
      "47\n",
      "49\n"
     ]
    }
   ],
   "source": [
    "for i in range(1,51):\n",
    "  if i%2==0 or i==13:\n",
    "    continue\n",
    "  else:\n",
    "    print(i)"
   ]
  },
  {
   "cell_type": "markdown",
   "id": "26d8232f-2463-44b0-bda5-4e193ac75074",
   "metadata": {},
   "source": [
    "# List Comprehension"
   ]
  },
  {
   "cell_type": "markdown",
   "id": "cf723f24-d0b9-463d-9e03-c353969605f6",
   "metadata": {},
   "source": [
    "#### Assignment 1:\n",
    "##### Create a list of all numbers from 1 to 100 that are divisible by both 3 and 5\n",
    "##### Expected: [15, 30, 45, ..., 90]"
   ]
  },
  {
   "cell_type": "code",
   "execution_count": 81,
   "id": "969f38f1-bef3-45ad-a294-0ddacaff3ac6",
   "metadata": {},
   "outputs": [
    {
     "name": "stdout",
     "output_type": "stream",
     "text": [
      "[15, 30, 45, 60, 75, 90]\n"
     ]
    }
   ],
   "source": [
    "A = [ i for i in range(1,101) if i%3==0  if i%5==0]\n",
    "print(A)"
   ]
  },
  {
   "cell_type": "markdown",
   "id": "3f583e51-2e2a-4010-bf1d-96d87f0f1c64",
   "metadata": {},
   "source": [
    "##### Assignment 2:\n",
    "##### Remove all vowels from a given sentence using list comprehension"
   ]
  },
  {
   "cell_type": "code",
   "execution_count": 90,
   "id": "3019e3c4-489e-42b9-8a8c-3d096c32d400",
   "metadata": {},
   "outputs": [
    {
     "name": "stdout",
     "output_type": "stream",
     "text": [
      "['L', 's', 't', ' ', 'c', 'm', 'p', 'r', 'h', 'n', 's', 'n', ' ', 'm', 'k', 's', ' ', 'l', 'f', ' ', 's', 'r']\n"
     ]
    }
   ],
   "source": [
    "sentence = \"List comprehension makes life easier\"\n",
    "vowels = \"aeiouAEIOU\"\n",
    "\n",
    "x = [i for i in sentence if i not in vowels ]\n",
    "print(x)"
   ]
  },
  {
   "cell_type": "markdown",
   "id": "045da551-8c9e-444a-ba07-d5a113630193",
   "metadata": {},
   "source": [
    "#### Assignment 3:\n",
    "#### Create a 3x3 identity matrix using list comprehension"
   ]
  },
  {
   "cell_type": "code",
   "execution_count": 94,
   "id": "aaea77b2-ba79-49a8-91eb-6069f47674f8",
   "metadata": {},
   "outputs": [
    {
     "name": "stdout",
     "output_type": "stream",
     "text": [
      "[[1, 0, 0], [0, 1, 0], [0, 0, 1]]\n"
     ]
    }
   ],
   "source": [
    "u = [[1 if i==x else 0 for i in range(3)] for x in range(3)]\n",
    "print(u)"
   ]
  },
  {
   "cell_type": "markdown",
   "id": "8e7de6c6-5424-4509-815f-d8a9090e59d7",
   "metadata": {},
   "source": [
    "#### Assignment 4:\n",
    "#### From a nested list of integers, flatten and filter out only even numbers"
   ]
  },
  {
   "cell_type": "code",
   "execution_count": 99,
   "id": "e63391ef-e0fc-4887-a434-f9043ddfa52d",
   "metadata": {},
   "outputs": [
    {
     "name": "stdout",
     "output_type": "stream",
     "text": [
      "[2, 4, 6, 8]\n"
     ]
    }
   ],
   "source": [
    "nested = [[1,2,3],[4,5,6],[7,8,9]]\n",
    "x = [j for i in nested for j in i if j%2==0]\n",
    "print(x)"
   ]
  },
  {
   "cell_type": "markdown",
   "id": "2b281fd9-f24b-42c7-816b-3364d1fc9ce1",
   "metadata": {},
   "source": [
    "#### 5. Extract all integers from a nested list of mixed types (str, list, int)"
   ]
  },
  {
   "cell_type": "code",
   "execution_count": 104,
   "id": "3203aba6-f003-4eef-af3d-71b923b59ca7",
   "metadata": {},
   "outputs": [],
   "source": [
    "data = [1, 'a', [2, 'b', [3, 'c'], 4], 'd', [5, 6]]"
   ]
  },
  {
   "cell_type": "markdown",
   "id": "a46d5c89-d239-455b-b5b8-ee52413c6ee3",
   "metadata": {},
   "source": [
    "#### 6. Deep flattening a list"
   ]
  },
  {
   "cell_type": "code",
   "execution_count": null,
   "id": "5fece185-8c7b-4a93-a2a8-899e3d100163",
   "metadata": {},
   "outputs": [],
   "source": [
    "nested_deep = [1, [2, [3, [4, 5]], 6], 7]\n",
    "\n",
    "flattend_list = flatten(nested_deep)\n",
    "print(flattend_list)"
   ]
  },
  {
   "cell_type": "markdown",
   "id": "c68f7fb3-bcb1-453f-8312-d4966d7e5754",
   "metadata": {},
   "source": [
    "#### 7. Replace all odd numbers in a matrix with -1 using nested list comprehension"
   ]
  },
  {
   "cell_type": "code",
   "execution_count": 108,
   "id": "d6f93cc6-8452-46c6-a451-8932bdfec6b2",
   "metadata": {},
   "outputs": [
    {
     "name": "stdout",
     "output_type": "stream",
     "text": [
      "[-1, 2, -1, 4, -1, 6, -1, 8, -1]\n"
     ]
    }
   ],
   "source": [
    "matrix = [[1, 2, 3], [4, 5, 6], [7, 8, 9]]\n",
    "z = [-1 if j%2!=0 else j for i in matrix for j in i ]\n",
    "print(z)"
   ]
  },
  {
   "cell_type": "markdown",
   "id": "6101063c-d707-4bc5-88c6-c77c895affd2",
   "metadata": {},
   "source": [
    "#### 8. Generate a 5x5 matrix with values as the sum of row and column indices"
   ]
  },
  {
   "cell_type": "code",
   "execution_count": null,
   "id": "3d921e8d-0c90-46fe-a4fe-f59cd649ef69",
   "metadata": {},
   "outputs": [],
   "source": []
  },
  {
   "cell_type": "code",
   "execution_count": null,
   "id": "37eae7d7-7888-4384-a9bd-0aa01de13b44",
   "metadata": {},
   "outputs": [],
   "source": []
  },
  {
   "cell_type": "code",
   "execution_count": null,
   "id": "096e075a-2646-47f8-96dc-b2f77888131e",
   "metadata": {},
   "outputs": [],
   "source": []
  }
 ],
 "metadata": {
  "kernelspec": {
   "display_name": "Python [conda env:base] *",
   "language": "python",
   "name": "conda-base-py"
  },
  "language_info": {
   "codemirror_mode": {
    "name": "ipython",
    "version": 3
   },
   "file_extension": ".py",
   "mimetype": "text/x-python",
   "name": "python",
   "nbconvert_exporter": "python",
   "pygments_lexer": "ipython3",
   "version": "3.12.7"
  }
 },
 "nbformat": 4,
 "nbformat_minor": 5
}
