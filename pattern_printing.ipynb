{
  "nbformat": 4,
  "nbformat_minor": 0,
  "metadata": {
    "colab": {
      "provenance": [],
      "authorship_tag": "ABX9TyOdFHu0sGXss/+s9AevXJMd",
      "include_colab_link": true
    },
    "kernelspec": {
      "name": "python3",
      "display_name": "Python 3"
    },
    "language_info": {
      "name": "python"
    }
  },
  "cells": [
    {
      "cell_type": "markdown",
      "metadata": {
        "id": "view-in-github",
        "colab_type": "text"
      },
      "source": [
        "<a href=\"https://colab.research.google.com/github/jegatheshwaran/Assessment1/blob/main/pattern_printing.ipynb\" target=\"_parent\"><img src=\"https://colab.research.google.com/assets/colab-badge.svg\" alt=\"Open In Colab\"/></a>"
      ]
    },
    {
      "cell_type": "code",
      "execution_count": null,
      "metadata": {
        "colab": {
          "base_uri": "https://localhost:8080/"
        },
        "id": "fHrZvwEc3NMp",
        "outputId": "69d473b1-75fd-4e10-db16-b947b0e653b7"
      },
      "outputs": [
        {
          "output_type": "stream",
          "name": "stdout",
          "text": [
            "Enter your input:5\n",
            "    *\n",
            "   ***\n",
            "  *****\n",
            " *******\n"
          ]
        }
      ],
      "source": [
        "n = int(input(\"Enter your input:\"))\n",
        "for i in range(1,n):\n",
        "    print(\" \"*(n-i)+\"*\"*(2*i-1))"
      ]
    },
    {
      "cell_type": "code",
      "source": [
        "n = int(input(\"Enter your input:\"))\n",
        "for i in range(1,n+1):\n",
        "    print(\" \"*(n-i)+\"*\"*(2*i-1))\n",
        "for i in range(n-1,0,-1):\n",
        "    print(\" \"*(n-i)+\"*\"*(2*i-1))"
      ],
      "metadata": {
        "colab": {
          "base_uri": "https://localhost:8080/"
        },
        "id": "TbyWQOLV3X8q",
        "outputId": "1f5095e2-7b45-4c9d-8d8a-8ba4657f556c"
      },
      "execution_count": null,
      "outputs": [
        {
          "output_type": "stream",
          "name": "stdout",
          "text": [
            "Enter your input:4\n",
            "   *\n",
            "  ***\n",
            " *****\n",
            "*******\n",
            " *****\n",
            "  ***\n",
            "   *\n"
          ]
        }
      ]
    },
    {
      "cell_type": "code",
      "source": [
        "n = int(input(\"Enter you input:\"))\n",
        "z=1\n",
        "for i in range(1,n+1):\n",
        "    for j in range(1,i):\n",
        "        print(z,end=\" \")\n",
        "        z+=1\n",
        "    print()"
      ],
      "metadata": {
        "colab": {
          "base_uri": "https://localhost:8080/"
        },
        "id": "8-07hXtm3abg",
        "outputId": "edec3f07-0681-4dd4-f2bd-9d86535a38cb"
      },
      "execution_count": null,
      "outputs": [
        {
          "output_type": "stream",
          "name": "stdout",
          "text": [
            "Enter you input:5\n",
            "\n",
            "1 \n",
            "2 3 \n",
            "4 5 6 \n",
            "7 8 9 10 \n"
          ]
        }
      ]
    }
  ]
}