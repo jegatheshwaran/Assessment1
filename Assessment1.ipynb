{
  "nbformat": 4,
  "nbformat_minor": 0,
  "metadata": {
    "colab": {
      "name": "Assessment1.ipynb",
      "provenance": [],
      "collapsed_sections": [],
      "authorship_tag": "ABX9TyPC73idj0OqtuiAsIEJdfhM",
      "include_colab_link": true
    },
    "kernelspec": {
      "name": "python3",
      "display_name": "Python 3"
    },
    "language_info": {
      "name": "python"
    }
  },
  "cells": [
    {
      "cell_type": "markdown",
      "metadata": {
        "id": "view-in-github",
        "colab_type": "text"
      },
      "source": [
        "<a href=\"https://colab.research.google.com/github/jegatheshwaran/Assessment1/blob/main/Assessment1.ipynb\" target=\"_parent\"><img src=\"https://colab.research.google.com/assets/colab-badge.svg\" alt=\"Open In Colab\"/></a>"
      ]
    },
    {
      "cell_type": "code",
      "source": [
        "import re\n",
        "\n",
        "def login():\n",
        "  db=open(\"//content/sample_data/RLF.txt\",\"r\")\n",
        "  for i in db:\n",
        "    user_id=i.split(\",\")\n",
        "    user_input_id=input(\"Enter Mail:\")\n",
        "    if user_input_id==user_id[0]:\n",
        "      print(\"User exist, go for password\")\n",
        "      password=input(\"Enter password:\")\n",
        "      if password==user_id[1].strip(\"\\n\"):\n",
        "        print(\"login success\")\n",
        "      else:\n",
        "        print(\"Password not correctly matched\")\n",
        "        forget_password()\n",
        "    else:\n",
        "      print(\"User not exist, go to registration\")\n",
        "      Registration()\n",
        "\n",
        "\n",
        "#Registration\n",
        "\n",
        "def Registration():\n",
        "  user_pattern='[a-z 0-9]+[\\._]?[a-z 0-9]+[@]\\w+[.]\\w{2,3}$'\n",
        "  print(\"Enter your username and password:\")\n",
        "  db=open('//content/sample_data/RLF.txt','r')\n",
        "  for i in db:\n",
        "    user_id=i.split(\",\")\n",
        "    user_input_id=input(\"Please enter your id:\")\n",
        "    if user_input_id==user_id[0]:\n",
        "      print(\"User entered id is already existing\")\n",
        "      forget_password()\n",
        "\n",
        "    elif (re.search(user_pattern,user_input_id)):\n",
        "      print(\"valid mail, go for password:\")\n",
        "\n",
        "      password=input(\"Enter password:\")\n",
        "\n",
        "      password_pattern=\"^.*(?=.{5,16})(?=.*\\d)(?=.*[a-z])(?=.*[A-Z])(?=.*[@?#$%^&+=]).*$\"\n",
        "\n",
        "      if re.search(password_pattern,password):\n",
        "        print(\"Success Registration:\")\n",
        "        file=open(\"//content/sample_data/RLF.txt\",\"a\")\n",
        "        file.write(\"\\n\"+user_input_id+\",\"+password)\n",
        "        file.close()\n",
        "      else:\n",
        "        print(\"Invalid password Enter correct:\")\n",
        "    else:\n",
        "      print(\"Invalid User_input_id\")\n",
        "      login()\n",
        "\n",
        "def forget_password():\n",
        "  db=open(\"/content/sample_data/RLF.txt\",\"r\")\n",
        "  for i in db:\n",
        "    user_id=i.split(\",\")\n",
        "    user_input_id=input(\"Enter you email for reset password\")\n",
        "    if user_input_id==user_id[0]:\n",
        "      print(\"your password\",user_jd[1])\n",
        "      break\n",
        "    else:\n",
        "      print(\"user not available go for registration\")\n",
        "      Registration()\n",
        "login() "
      ],
      "metadata": {
        "id": "jFYKuRBbGtjM"
      },
      "execution_count": null,
      "outputs": []
    },
    {
      "cell_type": "code",
      "source": [
        "f=open(\"/content/sample_data/RLF.txt\",\"r\")\n",
        "print(f.read)"
      ],
      "metadata": {
        "colab": {
          "base_uri": "https://localhost:8080/"
        },
        "id": "0JHU4D_9gX4I",
        "outputId": "7673eb53-e4ec-49b0-cf8d-f5bbb502d49d"
      },
      "execution_count": null,
      "outputs": [
        {
          "output_type": "stream",
          "name": "stdout",
          "text": [
            "<built-in method read of _io.TextIOWrapper object at 0x7f7fe143fe50>\n"
          ]
        }
      ]
    }
  ]
}