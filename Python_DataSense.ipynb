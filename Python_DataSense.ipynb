{
  "nbformat": 4,
  "nbformat_minor": 0,
  "metadata": {
    "colab": {
      "provenance": [],
      "authorship_tag": "ABX9TyNIDqT5TcP5vEjA4FOxa7Rv",
      "include_colab_link": true
    },
    "kernelspec": {
      "name": "python3",
      "display_name": "Python 3"
    },
    "language_info": {
      "name": "python"
    }
  },
  "cells": [
    {
      "cell_type": "markdown",
      "metadata": {
        "id": "view-in-github",
        "colab_type": "text"
      },
      "source": [
        "<a href=\"https://colab.research.google.com/github/jegatheshwaran/Assessment1/blob/main/Python_DataSense.ipynb\" target=\"_parent\"><img src=\"https://colab.research.google.com/assets/colab-badge.svg\" alt=\"Open In Colab\"/></a>"
      ]
    },
    {
      "cell_type": "markdown",
      "source": [
        "print"
      ],
      "metadata": {
        "id": "m5TbAqu815So"
      }
    },
    {
      "cell_type": "code",
      "source": [
        "print('My Name:Jegatheshwaran M')"
      ],
      "metadata": {
        "colab": {
          "base_uri": "https://localhost:8080/"
        },
        "id": "1Nqp5gY71-tS",
        "outputId": "42c374a9-2351-4938-97fb-eadfad3a8f3d"
      },
      "execution_count": null,
      "outputs": [
        {
          "output_type": "stream",
          "name": "stdout",
          "text": [
            "My Name:Jegatheshwaran M\n"
          ]
        }
      ]
    },
    {
      "cell_type": "code",
      "source": [
        "print('My hobby1:Cycling')\n",
        "print('My hobby2:Reading books')\n",
        "print('My hobby3:Speech')"
      ],
      "metadata": {
        "colab": {
          "base_uri": "https://localhost:8080/"
        },
        "id": "KLu_QxZb2I62",
        "outputId": "e381d7ec-4956-40be-ed77-2f0f83d4e6d3"
      },
      "execution_count": null,
      "outputs": [
        {
          "output_type": "stream",
          "name": "stdout",
          "text": [
            "My hobby1:Cycling\n",
            "My hobby2:Reading books\n",
            "My hobby3:Speech\n"
          ]
        }
      ]
    },
    {
      "cell_type": "code",
      "source": [
        "print('My hobby1:Cycling',end='----')\n",
        "print('My hobby2:Reading books')\n",
        "print('My hobby3:Speech')"
      ],
      "metadata": {
        "colab": {
          "base_uri": "https://localhost:8080/"
        },
        "id": "Fjj7yyOp2eoG",
        "outputId": "ece9ae28-f0ab-4551-d654-51f12aa2b30e"
      },
      "execution_count": null,
      "outputs": [
        {
          "output_type": "stream",
          "name": "stdout",
          "text": [
            "My hobby1:Cycling----My hobby2:Reading books\n",
            "My hobby3:Speech\n"
          ]
        }
      ]
    },
    {
      "cell_type": "code",
      "source": [
        "print('My hobby1:Cycling',end='')\n",
        "print('My hobby2:Reading books')\n",
        "print('My hobby3:Speech')"
      ],
      "metadata": {
        "colab": {
          "base_uri": "https://localhost:8080/"
        },
        "id": "e-viLtDJ2jDd",
        "outputId": "3cad7acc-31aa-421c-8476-68f565456159"
      },
      "execution_count": null,
      "outputs": [
        {
          "output_type": "stream",
          "name": "stdout",
          "text": [
            "My hobby1:CyclingMy hobby2:Reading books\n",
            "My hobby3:Speech\n"
          ]
        }
      ]
    },
    {
      "cell_type": "code",
      "source": [
        "print('My hobby1:Cycling',end='\\n')\n",
        "print('My hobby2:Reading books')\n",
        "print('My hobby3:Speech')"
      ],
      "metadata": {
        "colab": {
          "base_uri": "https://localhost:8080/"
        },
        "id": "Wc-jp_2c2nmc",
        "outputId": "ed299273-7de6-4b5a-b9a7-e67284c559da"
      },
      "execution_count": null,
      "outputs": [
        {
          "output_type": "stream",
          "name": "stdout",
          "text": [
            "My hobby1:Cycling\n",
            "My hobby2:Reading books\n",
            "My hobby3:Speech\n"
          ]
        }
      ]
    },
    {
      "cell_type": "code",
      "source": [
        "print(\"football\", end='-')\n",
        "print(\"cricket\", end='-')\n",
        "print(\"tennis\")"
      ],
      "metadata": {
        "colab": {
          "base_uri": "https://localhost:8080/"
        },
        "id": "L5ECgMpt20GF",
        "outputId": "4b59443d-99a3-4a04-8a8d-9979f3d8fd4e"
      },
      "execution_count": null,
      "outputs": [
        {
          "output_type": "stream",
          "name": "stdout",
          "text": [
            "football-cricket-tennis\n"
          ]
        }
      ]
    },
    {
      "cell_type": "markdown",
      "source": [
        "Input"
      ],
      "metadata": {
        "id": "q4mcCmzC3I1y"
      }
    },
    {
      "cell_type": "code",
      "source": [
        "name = input('Enter your name:')\n",
        "print(name)"
      ],
      "metadata": {
        "colab": {
          "base_uri": "https://localhost:8080/"
        },
        "id": "gtgJJaWr3KNN",
        "outputId": "2a42043c-e9a1-445f-cbbd-5fa4f7eb354c"
      },
      "execution_count": null,
      "outputs": [
        {
          "output_type": "stream",
          "name": "stdout",
          "text": [
            "Enter your name:Jegatheshwaran\n",
            "Jegatheshwaran\n"
          ]
        }
      ]
    },
    {
      "cell_type": "code",
      "source": [
        "name = input('Enter your name:')\n",
        "print('Hi',name)"
      ],
      "metadata": {
        "colab": {
          "base_uri": "https://localhost:8080/"
        },
        "id": "GM26Jv_i3qau",
        "outputId": "4a8f2990-d5ce-4058-f5f8-0adc22a733be"
      },
      "execution_count": null,
      "outputs": [
        {
          "output_type": "stream",
          "name": "stdout",
          "text": [
            "Enter your name:Jegatheshwaran\n",
            "Hi Jegatheshwaran\n"
          ]
        }
      ]
    },
    {
      "cell_type": "code",
      "source": [
        "name = input('Enter your age:')\n",
        "print(name*2)"
      ],
      "metadata": {
        "colab": {
          "base_uri": "https://localhost:8080/"
        },
        "id": "FveSHszW4otX",
        "outputId": "7446d2ed-0ac5-45a0-8b3b-bf3651c4fb6f"
      },
      "execution_count": null,
      "outputs": [
        {
          "output_type": "stream",
          "name": "stdout",
          "text": [
            "Enter your age:31\n",
            "3131\n"
          ]
        }
      ]
    },
    {
      "cell_type": "code",
      "source": [
        "name = input('Enter your age:')\n",
        "print(name+name)"
      ],
      "metadata": {
        "colab": {
          "base_uri": "https://localhost:8080/"
        },
        "id": "IN19lOgO5ESF",
        "outputId": "2169c9de-ab0e-4437-92e3-c29a21da16c5"
      },
      "execution_count": null,
      "outputs": [
        {
          "output_type": "stream",
          "name": "stdout",
          "text": [
            "Enter your age:31\n",
            "3131\n"
          ]
        }
      ]
    },
    {
      "cell_type": "code",
      "source": [
        "name = int(input('Enter your age:'))\n",
        "print(name*2)"
      ],
      "metadata": {
        "colab": {
          "base_uri": "https://localhost:8080/"
        },
        "id": "xiTfvHSd5NEa",
        "outputId": "fe8d63e6-a954-445d-bbdc-310075c52625"
      },
      "execution_count": null,
      "outputs": [
        {
          "output_type": "stream",
          "name": "stdout",
          "text": [
            "Enter your age:31\n",
            "62\n"
          ]
        }
      ]
    },
    {
      "cell_type": "code",
      "source": [
        "name = int(input('Enter your age:'))\n",
        "print(name+name)"
      ],
      "metadata": {
        "colab": {
          "base_uri": "https://localhost:8080/"
        },
        "id": "OnhPVPiq5RcZ",
        "outputId": "c7245cd5-98df-4e47-c72c-2803aa68a1e0"
      },
      "execution_count": null,
      "outputs": [
        {
          "output_type": "stream",
          "name": "stdout",
          "text": [
            "Enter your age:31\n",
            "62\n"
          ]
        }
      ]
    },
    {
      "cell_type": "code",
      "source": [
        "movie = input(\"Enter your movie name:\")\n",
        "print('I love the movie:', movie)"
      ],
      "metadata": {
        "colab": {
          "base_uri": "https://localhost:8080/"
        },
        "id": "-Ed2B5Lb5WQC",
        "outputId": "32cc2297-b103-4238-f76b-63772ca0f68e"
      },
      "execution_count": null,
      "outputs": [
        {
          "output_type": "stream",
          "name": "stdout",
          "text": [
            "Enter your movie name:inidan\n",
            "I love the movie: inidan\n"
          ]
        }
      ]
    },
    {
      "cell_type": "markdown",
      "source": [
        "Variables"
      ],
      "metadata": {
        "id": "iaDN20K16BTb"
      }
    },
    {
      "cell_type": "code",
      "source": [
        "print('I am jegatheshwaran, always successed in all')\n"
      ],
      "metadata": {
        "colab": {
          "base_uri": "https://localhost:8080/"
        },
        "id": "wJP-N9iI6Cky",
        "outputId": "0a6806a0-1198-452a-d2b9-d0a718b47489"
      },
      "execution_count": null,
      "outputs": [
        {
          "output_type": "stream",
          "name": "stdout",
          "text": [
            "I am jegatheshwaran, always successed in all\n"
          ]
        }
      ]
    },
    {
      "cell_type": "code",
      "source": [
        "a='I am jegatheshwaran, always successed in all'\n",
        "print(a)"
      ],
      "metadata": {
        "colab": {
          "base_uri": "https://localhost:8080/"
        },
        "id": "HXPlY0e_6SxJ",
        "outputId": "071fe720-7dd5-4c82-dec5-8230f17567a2"
      },
      "execution_count": null,
      "outputs": [
        {
          "output_type": "stream",
          "name": "stdout",
          "text": [
            "I am jegatheshwaran, always successed in all\n"
          ]
        }
      ]
    },
    {
      "cell_type": "code",
      "source": [
        "name='Jega'\n",
        "age=22\n",
        "print(type(age))\n",
        "print(name+age)"
      ],
      "metadata": {
        "colab": {
          "base_uri": "https://localhost:8080/",
          "height": 193
        },
        "id": "4iErzZ_27HUy",
        "outputId": "22b87b13-79d6-4326-dfd6-708bb547ba27"
      },
      "execution_count": null,
      "outputs": [
        {
          "output_type": "stream",
          "name": "stdout",
          "text": [
            "<class 'int'>\n"
          ]
        },
        {
          "output_type": "error",
          "ename": "TypeError",
          "evalue": "can only concatenate str (not \"int\") to str",
          "traceback": [
            "\u001b[0;31m---------------------------------------------------------------------------\u001b[0m",
            "\u001b[0;31mTypeError\u001b[0m                                 Traceback (most recent call last)",
            "\u001b[0;32m<ipython-input-29-35933ef05eb3>\u001b[0m in \u001b[0;36m<cell line: 0>\u001b[0;34m()\u001b[0m\n\u001b[1;32m      2\u001b[0m \u001b[0mage\u001b[0m\u001b[0;34m=\u001b[0m\u001b[0;36m22\u001b[0m\u001b[0;34m\u001b[0m\u001b[0;34m\u001b[0m\u001b[0m\n\u001b[1;32m      3\u001b[0m \u001b[0mprint\u001b[0m\u001b[0;34m(\u001b[0m\u001b[0mtype\u001b[0m\u001b[0;34m(\u001b[0m\u001b[0mage\u001b[0m\u001b[0;34m)\u001b[0m\u001b[0;34m)\u001b[0m\u001b[0;34m\u001b[0m\u001b[0;34m\u001b[0m\u001b[0m\n\u001b[0;32m----> 4\u001b[0;31m \u001b[0mprint\u001b[0m\u001b[0;34m(\u001b[0m\u001b[0mname\u001b[0m\u001b[0;34m+\u001b[0m\u001b[0mage\u001b[0m\u001b[0;34m)\u001b[0m\u001b[0;34m\u001b[0m\u001b[0;34m\u001b[0m\u001b[0m\n\u001b[0m",
            "\u001b[0;31mTypeError\u001b[0m: can only concatenate str (not \"int\") to str"
          ]
        }
      ]
    },
    {
      "cell_type": "code",
      "source": [
        "a=10\n",
        "b=20\n",
        "c=30\n",
        "a=15\n",
        "print(a)"
      ],
      "metadata": {
        "colab": {
          "base_uri": "https://localhost:8080/"
        },
        "id": "cz8mqeJT8JFb",
        "outputId": "6e2ebfe3-97ba-4f02-cabc-f09a5885b34b"
      },
      "execution_count": null,
      "outputs": [
        {
          "output_type": "stream",
          "name": "stdout",
          "text": [
            "15\n"
          ]
        }
      ]
    },
    {
      "cell_type": "code",
      "source": [
        "a='ac'\n",
        "b=20\n",
        "c=30\n",
        "a='de'\n",
        "print(a)"
      ],
      "metadata": {
        "colab": {
          "base_uri": "https://localhost:8080/"
        },
        "id": "YNeYzrjs8rn2",
        "outputId": "252e163e-a8b8-433d-d4e0-008e08746e89"
      },
      "execution_count": null,
      "outputs": [
        {
          "output_type": "stream",
          "name": "stdout",
          "text": [
            "de\n"
          ]
        }
      ]
    },
    {
      "cell_type": "markdown",
      "source": [
        "DATA TYPE & Type Conversion"
      ],
      "metadata": {
        "id": "7N_ttizy8xiU"
      }
    },
    {
      "cell_type": "markdown",
      "source": [
        "int\n",
        "float\n",
        "string\n",
        "booblean"
      ],
      "metadata": {
        "id": "5YWvQvsZ9RfI"
      }
    },
    {
      "cell_type": "code",
      "source": [
        "a='India'\n",
        "b=21\n",
        "c=32.45\n",
        "d=True\n",
        "print(type(a))\n",
        "print(type(b))\n",
        "print(type(c))\n",
        "print(type(d))"
      ],
      "metadata": {
        "colab": {
          "base_uri": "https://localhost:8080/"
        },
        "id": "SKnj37-Z80RB",
        "outputId": "06259fdb-8a53-4f2e-8795-f1588acfa240"
      },
      "execution_count": null,
      "outputs": [
        {
          "output_type": "stream",
          "name": "stdout",
          "text": [
            "<class 'str'>\n",
            "<class 'int'>\n",
            "<class 'float'>\n",
            "<class 'bool'>\n"
          ]
        }
      ]
    },
    {
      "cell_type": "code",
      "source": [
        "name = input('Enter your name:')\n",
        "age= int(input('Enter your age:'))\n",
        "random_number = int(input('Enter your random number:'))\n",
        "print(name)\n",
        "print(age+random_number)"
      ],
      "metadata": {
        "colab": {
          "base_uri": "https://localhost:8080/"
        },
        "id": "206TUNMx9wSG",
        "outputId": "833c836c-ac27-42e3-b9b5-903467e2f610"
      },
      "execution_count": null,
      "outputs": [
        {
          "output_type": "stream",
          "name": "stdout",
          "text": [
            "Enter your name:jegatheshwaran\n",
            "Enter your age:31\n",
            "Enter your random number:33\n",
            "jegatheshwaran\n",
            "64\n"
          ]
        }
      ]
    },
    {
      "cell_type": "markdown",
      "source": [
        "String Formatting"
      ],
      "metadata": {
        "id": "rxBAS8Z6AUkb"
      }
    },
    {
      "cell_type": "code",
      "source": [
        "name = input('Enter your name:')\n",
        "age = input('Enter your age:')\n",
        "print('The user name is',name,'and age',age)"
      ],
      "metadata": {
        "colab": {
          "base_uri": "https://localhost:8080/"
        },
        "id": "_fkP8OabAWzK",
        "outputId": "f8d09dfa-a625-4233-e41d-92830790665d"
      },
      "execution_count": null,
      "outputs": [
        {
          "output_type": "stream",
          "name": "stdout",
          "text": [
            "Enter your name:jega\n",
            "Enter your age:32\n",
            "The user name is jega and age 32\n"
          ]
        }
      ]
    },
    {
      "cell_type": "code",
      "source": [
        "# F string - formatted string literal"
      ],
      "metadata": {
        "id": "FDWaY1nLCbU-"
      },
      "execution_count": null,
      "outputs": []
    },
    {
      "cell_type": "code",
      "source": [
        "name = input('Enter your name:')\n",
        "age = input('Enter your age:')\n",
        "print(f\"The user's Name is {name} and age is {age}\")"
      ],
      "metadata": {
        "colab": {
          "base_uri": "https://localhost:8080/"
        },
        "id": "UsOfwN_WCgsx",
        "outputId": "187bf604-a3fb-497a-be5a-15344b0fd743"
      },
      "execution_count": null,
      "outputs": [
        {
          "output_type": "stream",
          "name": "stdout",
          "text": [
            "Enter your name:jega\n",
            "Enter your age:32\n",
            "The user's Name is jega and age is 32\n"
          ]
        }
      ]
    }
  ]
}